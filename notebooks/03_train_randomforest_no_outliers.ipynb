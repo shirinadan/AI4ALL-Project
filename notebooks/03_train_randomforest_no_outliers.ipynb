{
 "cells": [
  {
   "cell_type": "code",
   "execution_count": 6,
   "id": "6726cc32",
   "metadata": {},
   "outputs": [],
   "source": [
    "import pandas as pd\n",
    "import numpy as np\n",
    "from sklearn.model_selection import train_test_split\n",
    "from sklearn.feature_selection import mutual_info_regression\n",
    "from sklearn.metrics import mean_absolute_error, r2_score, mean_squared_error\n",
    "\n",
    "# Import the models\n",
    "from sklearn.ensemble import RandomForestRegressor, GradientBoostingRegressor\n",
    "from sklearn.svm import SVR\n"
   ]
  },
  {
   "cell_type": "code",
   "execution_count": 7,
   "id": "c0a35065",
   "metadata": {},
   "outputs": [],
   "source": [
    "# change for clean or unclean\n",
    "file_name = \"../data/data_without_outliers.csv\"\n",
    "df = pd.read_csv(file_name)"
   ]
  },
  {
   "cell_type": "code",
   "execution_count": 4,
   "id": "9f29220b",
   "metadata": {},
   "outputs": [
    {
     "name": "stdout",
     "output_type": "stream",
     "text": [
      "Top 15 features selected based on Mutual Information:\n",
      "['Founded Year', 'IPO?', 'Log_Annual Revenue ($M)', 'Log_Number of Employees', 'Industry_Energy', 'Industry_E-commerce', 'Uses_Java', 'Industry_AI', 'Uses_AI', 'Log_Valuation ($B)', 'Industry_Logistics', 'Log_Social Media Followers', 'Industry_FinTech', 'Log_Revenue per Employee', 'Funding Stage_Seed']\n",
      "\n",
      "Final feature set shape: (3471, 15)\n"
     ]
    }
   ],
   "source": [
    "# Define features (X) and target (y)\n",
    "# We drop StartupID as it's an identifier, not a predictive feature.\n",
    "X = df.drop(columns=[\"StartupID\", \"Success Score\"])\n",
    "y = df[\"Success Score\"]\n",
    "\n",
    "# Calculate Mutual Information scores to find the most predictive features\n",
    "mi_scores = mutual_info_regression(X, y, random_state=42)\n",
    "mi_scores = pd.Series(mi_scores, name=\"MI Scores\", index=X.columns)\n",
    "\n",
    "# Select the top 15 features\n",
    "top_features = mi_scores.sort_values(ascending=False).head(15).index.tolist()\n",
    "\n",
    "print(\"Top 15 features selected based on Mutual Information:\")\n",
    "print(top_features)\n",
    "\n",
    "# Create the final feature set with only the top predictors\n",
    "X = X[top_features]\n",
    "\n",
    "print(f\"\\nFinal feature set shape: {X.shape}\")"
   ]
  },
  {
   "cell_type": "code",
   "execution_count": 8,
   "id": "7331751f",
   "metadata": {},
   "outputs": [
    {
     "name": "stdout",
     "output_type": "stream",
     "text": [
      "--- Data Split Complete ---\n",
      "Training set size: 2776 rows\n",
      "Testing set size: 695 rows\n",
      "\n",
      "==================================================\n",
      "\n"
     ]
    }
   ],
   "source": [
    "# split into 80/20 train and test split\n",
    "\n",
    "X_train, X_test, y_train, y_test = train_test_split(\n",
    "    X, y, test_size=0.2, random_state=42\n",
    ")\n",
    "\n",
    "print(\"--- Data Split Complete ---\")\n",
    "print(f\"Training set size: {len(X_train)} rows\")\n",
    "print(f\"Testing set size: {len(X_test)} rows\")\n",
    "print(\"\\n\" + \"=\" * 50 + \"\\n\")"
   ]
  },
  {
   "cell_type": "markdown",
   "id": "483c7d0d",
   "metadata": {},
   "source": [
    "This is where it becomes different based on model"
   ]
  },
  {
   "cell_type": "code",
   "execution_count": 14,
   "id": "a77cec22",
   "metadata": {},
   "outputs": [
    {
     "name": "stdout",
     "output_type": "stream",
     "text": [
      "Random Forest Reg MAE: 2.2845\n",
      "Random Forest Reg MSE: 6.8466\n",
      "Random Forest Reg R-squared: -0.0087\n"
     ]
    }
   ],
   "source": [
    "rfr = RandomForestRegressor(\n",
    "    n_estimators=100, max_depth=3, random_state=42\n",
    ")\n",
    "\n",
    "# Train the model\n",
    "rfr.fit(X_train, y_train)\n",
    "\n",
    "# Make predictions on the test set\n",
    "rfr_predictions = rfr.predict(X_test)\n",
    "\n",
    "# Evaluate the model\n",
    "rfr_mae = mean_absolute_error(y_test, rfr_predictions)\n",
    "rfr_r2 = r2_score(y_test, rfr_predictions)\n",
    "rfr_mse = mean_squared_error(y_test, rfr_predictions)\n",
    "print(f\"Random Forest Reg MAE: {rfr_mae:.4f}\")\n",
    "print(f\"Random Forest Reg MSE: {rfr_mse:.4f}\")\n",
    "print(f\"Random Forest Reg R-squared: {rfr_r2:.4f}\")"
   ]
  },
  {
   "cell_type": "markdown",
   "id": "66c16374",
   "metadata": {},
   "source": [
    "Results:"
   ]
  },
  {
   "cell_type": "markdown",
   "id": "45ab1a8e",
   "metadata": {},
   "source": [
    "Gradient Boosting MAE: 2.3237\n",
    "Gradient Boosting R-squared: -0.0460"
   ]
  }
 ],
 "metadata": {
  "kernelspec": {
   "display_name": "Python 3",
   "language": "python",
   "name": "python3"
  },
  "language_info": {
   "codemirror_mode": {
    "name": "ipython",
    "version": 3
   },
   "file_extension": ".py",
   "mimetype": "text/x-python",
   "name": "python",
   "nbconvert_exporter": "python",
   "pygments_lexer": "ipython3",
   "version": "3.9.6"
  }
 },
 "nbformat": 4,
 "nbformat_minor": 5
}
