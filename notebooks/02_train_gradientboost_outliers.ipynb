{
 "cells": [
  {
   "cell_type": "code",
   "execution_count": 11,
   "id": "6726cc32",
   "metadata": {},
   "outputs": [],
   "source": [
    "import pandas as pd\n",
    "import numpy as np\n",
    "from sklearn.model_selection import train_test_split\n",
    "from sklearn.feature_selection import mutual_info_regression\n",
    "from sklearn.metrics import mean_absolute_error, r2_score, mean_squared_error, root_mean_squared_error\n",
    "\n",
    "# Import the models\n",
    "from sklearn.ensemble import GradientBoostingRegressor\n",
    "from sklearn.svm import SVR"
   ]
  },
  {
   "cell_type": "code",
   "execution_count": 12,
   "id": "c0a35065",
   "metadata": {},
   "outputs": [],
   "source": [
    "# change for clean or unclean\n",
    "file_name = \"../data/data_with_outliers.csv\"\n",
    "df = pd.read_csv(file_name)"
   ]
  },
  {
   "cell_type": "code",
   "execution_count": 13,
   "id": "9f29220b",
   "metadata": {},
   "outputs": [
    {
     "name": "stdout",
     "output_type": "stream",
     "text": [
      "Top 15 features selected based on Mutual Information:\n",
      "['Industry_EdTech', 'Log_Customer Base (Millions)', 'Uses_Python', 'Industry_Healthcare', 'Industry_Logistics', 'Industry_AI', 'Funding Stage_IPO', 'Industry_FinTech', 'Uses_AI', 'Industry_Tech', 'Industry_E-commerce', 'Uses_Java', 'Log_Funding per Employee', 'Country_Encoded', 'Acquired?']\n",
      "\n",
      "Final feature set shape: (5000, 15)\n"
     ]
    }
   ],
   "source": [
    "# Define features (X) and target (y)\n",
    "# We drop StartupID as it's an identifier, not a predictive feature.\n",
    "X = df.drop(columns=[\"StartupID\", \"Success Score\"])\n",
    "y = df[\"Success Score\"]\n",
    "\n",
    "# Calculate Mutual Information scores to find the most predictive features\n",
    "mi_scores = mutual_info_regression(X, y, random_state=42)\n",
    "mi_scores = pd.Series(mi_scores, name=\"MI Scores\", index=X.columns)\n",
    "\n",
    "# Select the top 15 features\n",
    "top_features = mi_scores.sort_values(ascending=False).head(15).index.tolist()\n",
    "\n",
    "print(\"Top 15 features selected based on Mutual Information:\")\n",
    "print(top_features)\n",
    "\n",
    "# Create the final feature set with only the top predictors\n",
    "X = X[top_features]\n",
    "\n",
    "print(f\"\\nFinal feature set shape: {X.shape}\")"
   ]
  },
  {
   "cell_type": "code",
   "execution_count": 14,
   "id": "7331751f",
   "metadata": {},
   "outputs": [
    {
     "name": "stdout",
     "output_type": "stream",
     "text": [
      "--- Data Split Complete ---\n",
      "Training set size: 4000 rows\n",
      "Testing set size: 1000 rows\n",
      "\n",
      "==================================================\n",
      "\n"
     ]
    }
   ],
   "source": [
    "# split into 80/20 train and test split\n",
    "\n",
    "X_train, X_test, y_train, y_test = train_test_split(\n",
    "    X, y, test_size=0.2, random_state=42\n",
    ")\n",
    "\n",
    "print(\"--- Data Split Complete ---\")\n",
    "print(f\"Training set size: {len(X_train)} rows\")\n",
    "print(f\"Testing set size: {len(X_test)} rows\")\n",
    "print(\"\\n\" + \"=\" * 50 + \"\\n\")"
   ]
  },
  {
   "cell_type": "markdown",
   "id": "483c7d0d",
   "metadata": {},
   "source": [
    "This is where it becomes different based on model"
   ]
  },
  {
   "cell_type": "code",
   "execution_count": 15,
   "id": "a77cec22",
   "metadata": {},
   "outputs": [
    {
     "name": "stdout",
     "output_type": "stream",
     "text": [
      "Gradient Boosting MAE: 2.2655\n",
      "Gradient Boosting MSE: 6.7148\n",
      "Gradient Boosting R-squared: -0.0127\n",
      "Gradient Boosting RMSE: 2.5913\n"
     ]
    }
   ],
   "source": [
    "gbr = GradientBoostingRegressor(\n",
    "    n_estimators=100, learning_rate=0.1, max_depth=3, random_state=42\n",
    ")\n",
    "\n",
    "# Train the model\n",
    "gbr.fit(X_train, y_train)\n",
    "\n",
    "# Make predictions on the test set\n",
    "gbr_predictions = gbr.predict(X_test)\n",
    "\n",
    "# Evaluate the model\n",
    "gbr_mae = mean_absolute_error(y_test, gbr_predictions)\n",
    "gbr_r2 = r2_score(y_test, gbr_predictions)\n",
    "gbr_mse = mean_squared_error(y_test, gbr_predictions)\n",
    "gbr_rmse = root_mean_squared_error(y_test, gbr_predictions)\n",
    "print(f\"Gradient Boosting MAE: {gbr_mae:.4f}\")\n",
    "print(f\"Gradient Boosting MSE: {gbr_mse:.4f}\")\n",
    "print(f\"Gradient Boosting R-squared: {gbr_r2:.4f}\")\n",
    "print(f\"Gradient Boosting RMSE: {gbr_rmse:.4f}\")"
   ]
  },
  {
   "cell_type": "markdown",
   "id": "66c16374",
   "metadata": {},
   "source": [
    "Results:"
   ]
  },
  {
   "cell_type": "markdown",
   "id": "45ab1a8e",
   "metadata": {},
   "source": [
    "Gradient Boosting MAE: 2.2655\n",
    "\n",
    "Gradient Boosting MSE: 6.7148\n",
    "\n",
    "Gradient Boosting R-squared: -0.0127\n",
    "\n",
    "Gradient Boosting RMSE: 2.5913"
   ]
  }
 ],
 "metadata": {
  "kernelspec": {
   "display_name": ".venv",
   "language": "python",
   "name": "python3"
  },
  "language_info": {
   "codemirror_mode": {
    "name": "ipython",
    "version": 3
   },
   "file_extension": ".py",
   "mimetype": "text/x-python",
   "name": "python",
   "nbconvert_exporter": "python",
   "pygments_lexer": "ipython3",
   "version": "3.13.5"
  }
 },
 "nbformat": 4,
 "nbformat_minor": 5
}
